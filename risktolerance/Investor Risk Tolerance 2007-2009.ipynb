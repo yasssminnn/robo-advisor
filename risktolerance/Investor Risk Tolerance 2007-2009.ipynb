{
 "cells": [
  {
   "cell_type": "markdown",
   "metadata": {
    "_cell_guid": "83708667-4fdc-1563-7b3a-06b6575d2865"
   },
   "source": [
    "\n",
    "\n",
    "# Investor Risk Tolerance and Robo advisors\n",
    "\n",
    "The goal of this case study is to build a machine learning model to predict the risk tolerance or risk aversion of an investor, and use the model in a robo-advisor dashboard.\n"
   ]
  },
  {
   "cell_type": "markdown",
   "metadata": {},
   "source": [
    "<a id='0'></a>\n",
    "# 1. Problem Definition"
   ]
  },
  {
   "cell_type": "markdown",
   "metadata": {},
   "source": [
    "In the supervised regression framework used for this case study, the predicted variable\n",
    "is the “true” risk tolerance of an individual and the predictor variables are demographic, financial and behavioral attributes of an individual\n",
    "\n",
    "For this case study the data used is from survey of Consumer Finances which is conducted by the Federal Reserve\n",
    "Board in 2007 (pre-crisis) and 2009 (post-crisis). The data source is : \n",
    "https://www.federalreserve.gov/econres/scf_2009p.htm"
   ]
  },
  {
   "cell_type": "markdown",
   "metadata": {},
   "source": [
    "<a id='1'></a>\n",
    "# 2. Loading the data and python packages"
   ]
  },
  {
   "cell_type": "code",
   "execution_count": 1,
   "metadata": {
    "_cell_guid": "5d8fee34-f454-2642-8b06-ed719f0317e1"
   },
   "outputs": [],
   "source": [
    "import numpy as np\n",
    "import pandas as pd\n",
    "import pandas_datareader.data as web\n",
    "import matplotlib.pyplot as plt\n",
    "from pandas.plotting import scatter_matrix\n",
    "import seaborn as sns\n",
    "import copy \n",
    "from sklearn.preprocessing import StandardScaler\n",
    "\n",
    "from sklearn.model_selection import train_test_split\n",
    "from sklearn.model_selection import KFold\n",
    "from sklearn.model_selection import cross_val_score\n",
    "from sklearn.model_selection import GridSearchCV\n",
    "\n",
    "from sklearn.linear_model import LinearRegression\n",
    "from sklearn.linear_model import Lasso\n",
    "from sklearn.linear_model import ElasticNet\n",
    "from sklearn.tree import DecisionTreeRegressor\n",
    "from sklearn.neighbors import KNeighborsRegressor\n",
    "from sklearn.svm import SVR\n",
    "from sklearn.ensemble import RandomForestRegressor\n",
    "from sklearn.ensemble import GradientBoostingRegressor\n",
    "from sklearn.ensemble import ExtraTreesRegressor\n",
    "from sklearn.ensemble import AdaBoostRegressor\n",
    "from sklearn.neural_network import MLPRegressor\n",
    "\n",
    "#Libraries for Deep Learning Models\n",
    "from keras.models import Sequential\n",
    "from keras.layers import Dense\n",
    "from keras.optimizers import SGD\n",
    "from keras.layers import LSTM\n",
    "from keras.wrappers.scikit_learn import KerasRegressor\n",
    "\n",
    "#Libraries for Statistical Models\n",
    "import statsmodels.api as sm\n",
    "\n",
    "#Libraries for Saving the Model\n",
    "from pickle import dump\n",
    "from pickle import load"
   ]
  },
  {
   "cell_type": "code",
   "execution_count": 2,
   "metadata": {
    "_cell_guid": "787e35f7-bf9e-0969-8d13-a54fa87f3519",
    "scrolled": true
   },
   "outputs": [],
   "source": [
    "# load dataset\n",
    "dataset0 = pd.read_excel('SCFP2009panel.xlsx')"
   ]
  },
  {
   "cell_type": "code",
   "execution_count": 3,
   "metadata": {},
   "outputs": [],
   "source": [
    "#Diable the warnings\n",
    "import warnings\n",
    "warnings.filterwarnings('ignore')"
   ]
  },
  {
   "cell_type": "code",
   "execution_count": 33,
   "metadata": {},
   "outputs": [
    {
     "data": {
      "text/plain": [
       "(19285, 515)"
      ]
     },
     "execution_count": 33,
     "metadata": {},
     "output_type": "execute_result"
    }
   ],
   "source": [
    "dataset = dataset0.copy()\n",
    "dataset.shape"
   ]
  },
  {
   "cell_type": "markdown",
   "metadata": {},
   "source": [
    "<a id='2'></a>\n",
    "## 3. Data Preparation and Feature Selection"
   ]
  },
  {
   "cell_type": "markdown",
   "metadata": {},
   "source": [
    "The dataset from \"Survey of Consumer Finances\" contains the Household's demographics, net worth, financial and non-financial assets for the same demographics in 2007 (pre-crisis) and 2009(post-crisis). \n",
    "\n",
    "The predicted variable is the \"true\" risk tolerance. There are different ways of getting the \"true\" risk tolerance. The idea and the purpose of this case study is to come up with an approach to solve the behavioral finance problem using machine learning. \n",
    "\n",
    "The steps to compute the predicted variables are as follows: \n",
    "\n",
    "1) Compute the Risky asset and the riskless assets for all the individuals in the survey data. Risky and riskless assets are defined as follows: \n",
    "* **Risky assets** is investments in mutual funds, stocks, bonds, commodities, and\n",
    "real estate, and an estimate of human capital. \n",
    "* **Risk Free Assets**: checking and savings balances,certificates of deposit, and other cash balances and equivalents.\n",
    "\n",
    "2) We take the ratio of risky assets to total assets of an investor and consider that as a measure of risk tolerance of an investor. From the data of SCF, we have the data of risky and riskless assets for the individuals for 2007 and 2009. We use this data and normalise the risky assets with the stock price of 2007 vs. 2009 to get risk tolerance. \n",
    "\n",
    "* **Risk Tolerance**  just defined as the ratio of Risky Asset to Riskless Assets normalised with the average S&P500 of 2007 vs 2009. \n",
    "Average S&P500 in 2007: 1478\n",
    "Average S&P500 in 2009: 948\n",
    "\n",
    "3) In a lot of literature, an intelligent investor is the one who doesn't change its risk tolerance during the change in the market. So, we consider the investors who change their risk tolerance by less than 10% between 2007 and 2009 as the intelligent investors. Ofcourse this is a qualitative judgement and is subject to change. However, as mentioned before more than being accurate and precise the purpose of theis case study is to demonstrate the usage of the machine learning and provide a machine learning based framework in behavioral finance and portfolio management which can be further leveraged for more detailed analysis. "
   ]
  },
  {
   "cell_type": "code",
   "execution_count": 34,
   "metadata": {},
   "outputs": [],
   "source": [
    "#Average SP500 during 2007 and 2009\n",
    "Average_SP500_2007=1478\n",
    "Average_SP500_2009=948\n",
    "\n",
    "#Risk Tolerance 2007\n",
    "dataset['RiskFree07']= dataset['LIQ07'] + dataset['CDS07'] + dataset['SAVBND07'] + dataset['CASHLI07']\n",
    "dataset['Risky07'] = dataset['NMMF07'] + dataset['STOCKS07'] + dataset['BOND07'] \n",
    "dataset['RT07'] = dataset['Risky07']/(dataset['Risky07']+dataset['RiskFree07'])\n",
    "\n",
    "#Risk Tolerance 2009\n",
    "dataset['RiskFree09']= dataset['LIQ09'] + dataset['CDS09'] + dataset['SAVBND09'] + dataset['CASHLI09']\n",
    "dataset['Risky09'] = dataset['NMMF09'] + dataset['STOCKS09'] + dataset['BOND09'] \n",
    "dataset['RT09'] = dataset['Risky09']/(dataset['Risky09']+dataset['RiskFree09'])*\\\n",
    "                (Average_SP500_2009/Average_SP500_2007)"
   ]
  },
  {
   "cell_type": "code",
   "execution_count": 35,
   "metadata": {},
   "outputs": [
    {
     "data": {
      "text/html": [
       "<div>\n",
       "<style scoped>\n",
       "    .dataframe tbody tr th:only-of-type {\n",
       "        vertical-align: middle;\n",
       "    }\n",
       "\n",
       "    .dataframe tbody tr th {\n",
       "        vertical-align: top;\n",
       "    }\n",
       "\n",
       "    .dataframe thead th {\n",
       "        text-align: right;\n",
       "    }\n",
       "</style>\n",
       "<table border=\"1\" class=\"dataframe\">\n",
       "  <thead>\n",
       "    <tr style=\"text-align: right;\">\n",
       "      <th></th>\n",
       "      <th>YY1</th>\n",
       "      <th>Y1</th>\n",
       "      <th>WGT09</th>\n",
       "      <th>AGE07</th>\n",
       "      <th>AGECL07</th>\n",
       "      <th>EDUC07</th>\n",
       "      <th>EDCL07</th>\n",
       "      <th>MARRIED07</th>\n",
       "      <th>KIDS07</th>\n",
       "      <th>LIFECL07</th>\n",
       "      <th>...</th>\n",
       "      <th>TRANSFOTHINCPCT</th>\n",
       "      <th>PSAVINGPCT</th>\n",
       "      <th>LEVERAGEPCT</th>\n",
       "      <th>I</th>\n",
       "      <th>RiskFree07</th>\n",
       "      <th>Risky07</th>\n",
       "      <th>RT07</th>\n",
       "      <th>RiskFree09</th>\n",
       "      <th>Risky09</th>\n",
       "      <th>RT09</th>\n",
       "    </tr>\n",
       "  </thead>\n",
       "  <tbody>\n",
       "    <tr>\n",
       "      <th>0</th>\n",
       "      <td>1</td>\n",
       "      <td>11</td>\n",
       "      <td>11668.134198</td>\n",
       "      <td>47</td>\n",
       "      <td>3</td>\n",
       "      <td>12</td>\n",
       "      <td>2</td>\n",
       "      <td>1</td>\n",
       "      <td>0</td>\n",
       "      <td>2</td>\n",
       "      <td>...</td>\n",
       "      <td>0.0</td>\n",
       "      <td>93.125197</td>\n",
       "      <td>270.403054</td>\n",
       "      <td>57</td>\n",
       "      <td>7994.813847</td>\n",
       "      <td>0.0</td>\n",
       "      <td>0.0</td>\n",
       "      <td>16000</td>\n",
       "      <td>17000</td>\n",
       "      <td>0.330422</td>\n",
       "    </tr>\n",
       "    <tr>\n",
       "      <th>1</th>\n",
       "      <td>1</td>\n",
       "      <td>12</td>\n",
       "      <td>11823.456494</td>\n",
       "      <td>47</td>\n",
       "      <td>3</td>\n",
       "      <td>12</td>\n",
       "      <td>2</td>\n",
       "      <td>1</td>\n",
       "      <td>0</td>\n",
       "      <td>2</td>\n",
       "      <td>...</td>\n",
       "      <td>0.0</td>\n",
       "      <td>93.125197</td>\n",
       "      <td>249.593620</td>\n",
       "      <td>57</td>\n",
       "      <td>7994.813847</td>\n",
       "      <td>0.0</td>\n",
       "      <td>0.0</td>\n",
       "      <td>19000</td>\n",
       "      <td>18000</td>\n",
       "      <td>0.312036</td>\n",
       "    </tr>\n",
       "    <tr>\n",
       "      <th>2</th>\n",
       "      <td>1</td>\n",
       "      <td>13</td>\n",
       "      <td>11913.228354</td>\n",
       "      <td>47</td>\n",
       "      <td>3</td>\n",
       "      <td>12</td>\n",
       "      <td>2</td>\n",
       "      <td>1</td>\n",
       "      <td>0</td>\n",
       "      <td>2</td>\n",
       "      <td>...</td>\n",
       "      <td>0.0</td>\n",
       "      <td>93.125197</td>\n",
       "      <td>209.233358</td>\n",
       "      <td>57</td>\n",
       "      <td>7984.457871</td>\n",
       "      <td>0.0</td>\n",
       "      <td>0.0</td>\n",
       "      <td>13000</td>\n",
       "      <td>12000</td>\n",
       "      <td>0.307876</td>\n",
       "    </tr>\n",
       "    <tr>\n",
       "      <th>3</th>\n",
       "      <td>1</td>\n",
       "      <td>14</td>\n",
       "      <td>11929.394266</td>\n",
       "      <td>47</td>\n",
       "      <td>3</td>\n",
       "      <td>12</td>\n",
       "      <td>2</td>\n",
       "      <td>1</td>\n",
       "      <td>0</td>\n",
       "      <td>2</td>\n",
       "      <td>...</td>\n",
       "      <td>0.0</td>\n",
       "      <td>93.125197</td>\n",
       "      <td>209.273158</td>\n",
       "      <td>57</td>\n",
       "      <td>7984.457871</td>\n",
       "      <td>0.0</td>\n",
       "      <td>0.0</td>\n",
       "      <td>25000</td>\n",
       "      <td>13000</td>\n",
       "      <td>0.219429</td>\n",
       "    </tr>\n",
       "    <tr>\n",
       "      <th>4</th>\n",
       "      <td>1</td>\n",
       "      <td>15</td>\n",
       "      <td>11917.722907</td>\n",
       "      <td>47</td>\n",
       "      <td>3</td>\n",
       "      <td>12</td>\n",
       "      <td>2</td>\n",
       "      <td>1</td>\n",
       "      <td>0</td>\n",
       "      <td>2</td>\n",
       "      <td>...</td>\n",
       "      <td>0.0</td>\n",
       "      <td>93.125197</td>\n",
       "      <td>232.690767</td>\n",
       "      <td>57</td>\n",
       "      <td>7994.813847</td>\n",
       "      <td>0.0</td>\n",
       "      <td>0.0</td>\n",
       "      <td>17000</td>\n",
       "      <td>12000</td>\n",
       "      <td>0.265410</td>\n",
       "    </tr>\n",
       "  </tbody>\n",
       "</table>\n",
       "<p>5 rows × 521 columns</p>\n",
       "</div>"
      ],
      "text/plain": [
       "   YY1  Y1         WGT09  AGE07  AGECL07  EDUC07  EDCL07  MARRIED07  KIDS07  \\\n",
       "0    1  11  11668.134198     47        3      12       2          1       0   \n",
       "1    1  12  11823.456494     47        3      12       2          1       0   \n",
       "2    1  13  11913.228354     47        3      12       2          1       0   \n",
       "3    1  14  11929.394266     47        3      12       2          1       0   \n",
       "4    1  15  11917.722907     47        3      12       2          1       0   \n",
       "\n",
       "   LIFECL07  ...  TRANSFOTHINCPCT  PSAVINGPCT  LEVERAGEPCT   I   RiskFree07  \\\n",
       "0         2  ...              0.0   93.125197   270.403054  57  7994.813847   \n",
       "1         2  ...              0.0   93.125197   249.593620  57  7994.813847   \n",
       "2         2  ...              0.0   93.125197   209.233358  57  7984.457871   \n",
       "3         2  ...              0.0   93.125197   209.273158  57  7984.457871   \n",
       "4         2  ...              0.0   93.125197   232.690767  57  7994.813847   \n",
       "\n",
       "   Risky07  RT07  RiskFree09  Risky09      RT09  \n",
       "0      0.0   0.0       16000    17000  0.330422  \n",
       "1      0.0   0.0       19000    18000  0.312036  \n",
       "2      0.0   0.0       13000    12000  0.307876  \n",
       "3      0.0   0.0       25000    13000  0.219429  \n",
       "4      0.0   0.0       17000    12000  0.265410  \n",
       "\n",
       "[5 rows x 521 columns]"
      ]
     },
     "execution_count": 35,
     "metadata": {},
     "output_type": "execute_result"
    }
   ],
   "source": [
    "dataset.head()"
   ]
  },
  {
   "cell_type": "code",
   "execution_count": 40,
   "metadata": {},
   "outputs": [
    {
     "data": {
      "text/plain": [
       "['ACTBUS07',\n",
       " 'ACTBUS09',\n",
       " 'ADJM107',\n",
       " 'ADJM109',\n",
       " 'ADJM207',\n",
       " 'ADJM209',\n",
       " 'AGE07',\n",
       " 'AGE09',\n",
       " 'AGEALL07',\n",
       " 'AGEALL09',\n",
       " 'AGECL07',\n",
       " 'AGECL09',\n",
       " 'AGEFT07',\n",
       " 'AGEFT09',\n",
       " 'ANNUIT07',\n",
       " 'ANNUIT09',\n",
       " 'ANYPEN07',\n",
       " 'ANYPEN09',\n",
       " 'APPLIED07',\n",
       " 'APPLIED09',\n",
       " 'ASSET07',\n",
       " 'ASSET09',\n",
       " 'ASSETCAT07',\n",
       " 'ASSETCAT09',\n",
       " 'ASSETDIF',\n",
       " 'ASSETPCT',\n",
       " 'BCALL07',\n",
       " 'BCALL09',\n",
       " 'BDONT07',\n",
       " 'BDONT09',\n",
       " 'BFINPLAN07',\n",
       " 'BFINPLAN09',\n",
       " 'BFINPRO07',\n",
       " 'BFINPRO09',\n",
       " 'BFRIENDWORK07',\n",
       " 'BFRIENDWORK09',\n",
       " 'BINTERNET07',\n",
       " 'BINTERNET09',\n",
       " 'BMAGZNEWS07',\n",
       " 'BMAGZNEWS09',\n",
       " 'BMAILADTV07',\n",
       " 'BMAILADTV09',\n",
       " 'BOND07',\n",
       " 'BOND09',\n",
       " 'BONDDIF',\n",
       " 'BONDPCT',\n",
       " 'BOTHER07',\n",
       " 'BOTHER09',\n",
       " 'BPLANCJ07',\n",
       " 'BPLANCJ09',\n",
       " 'BSELF07',\n",
       " 'BSELF09',\n",
       " 'BSHOPGRDL07',\n",
       " 'BSHOPGRDL09',\n",
       " 'BSHOPMODR07',\n",
       " 'BSHOPMODR09',\n",
       " 'BSHOPNONE07',\n",
       " 'BSHOPNONE09',\n",
       " 'BUS07',\n",
       " 'BUS09',\n",
       " 'BUSDIF',\n",
       " 'BUSPCT',\n",
       " 'BUSSEFARMINC07',\n",
       " 'BUSSEFARMINC09',\n",
       " 'BUSSEFARMINCDIF',\n",
       " 'BUSSEFARMINCPCT',\n",
       " 'BUSVEH07',\n",
       " 'BUSVEH09',\n",
       " 'CALL07',\n",
       " 'CALL09',\n",
       " 'CALLDIF',\n",
       " 'CALLPCT',\n",
       " 'CASHLI07',\n",
       " 'CASHLI09',\n",
       " 'CASHLIDIF',\n",
       " 'CASHLIPCT',\n",
       " 'CCBAL07',\n",
       " 'CCBAL09',\n",
       " 'CCBALDIF',\n",
       " 'CCBALPCT',\n",
       " 'CDS07',\n",
       " 'CDS09',\n",
       " 'CDSDIF',\n",
       " 'CDSPCT',\n",
       " 'CHECKING07',\n",
       " 'CHECKING09',\n",
       " 'CHECKINGDIF',\n",
       " 'CHECKINGPCT',\n",
       " 'CONSPAY07',\n",
       " 'CONSPAY09',\n",
       " 'CONSPAYDIF',\n",
       " 'CONSPAYPCT',\n",
       " 'DBPLANCJ07',\n",
       " 'DBPLANCJ09',\n",
       " 'DBPLANT07',\n",
       " 'DBPLANT09',\n",
       " 'DCPLANCJ07',\n",
       " 'DCPLANCJ09',\n",
       " 'DEBT07',\n",
       " 'DEBT09',\n",
       " 'DEBTDIF',\n",
       " 'DEBTPCT',\n",
       " 'DENIED07',\n",
       " 'DENIED09',\n",
       " 'DEQ07',\n",
       " 'DEQ09',\n",
       " 'DEQDIF',\n",
       " 'DEQPCT',\n",
       " 'EDCL07',\n",
       " 'EDCL09',\n",
       " 'EDNINST07',\n",
       " 'EDNINST09',\n",
       " 'EDNINSTDIF',\n",
       " 'EDNINSTPCT',\n",
       " 'EDUC07',\n",
       " 'EDUC09',\n",
       " 'EQUITINC07',\n",
       " 'EQUITINC09',\n",
       " 'EQUITY07',\n",
       " 'EQUITY09',\n",
       " 'EQUITYDIF',\n",
       " 'EQUITYPCT',\n",
       " 'FAMSTRUCT07',\n",
       " 'FAMSTRUCT09',\n",
       " 'FEARED07',\n",
       " 'FEARED09',\n",
       " 'FGUARANTEE07',\n",
       " 'FGUARANTEE09',\n",
       " 'FHA07',\n",
       " 'FHA09',\n",
       " 'FIN07',\n",
       " 'FIN09',\n",
       " 'FINDIF',\n",
       " 'FINPCT',\n",
       " 'FULLAMT07',\n",
       " 'FULLAMT09',\n",
       " 'HABUS07',\n",
       " 'HABUS09',\n",
       " 'HASSET07',\n",
       " 'HASSET09',\n",
       " 'HBOND07',\n",
       " 'HBOND09',\n",
       " 'HBROK07',\n",
       " 'HBROK09',\n",
       " 'HBUS07',\n",
       " 'HBUS09',\n",
       " 'HCALL07',\n",
       " 'HCALL09',\n",
       " 'HCASHLI07',\n",
       " 'HCASHLI09',\n",
       " 'HCCBAL07',\n",
       " 'HCCBAL09',\n",
       " 'HCDS07',\n",
       " 'HCDS09',\n",
       " 'HCHECK07',\n",
       " 'HCHECK09',\n",
       " 'HDEBT07',\n",
       " 'HDEBT09',\n",
       " 'HEDNINST07',\n",
       " 'HEDNINST09',\n",
       " 'HELOC07',\n",
       " 'HELOC09',\n",
       " 'HELOCDIF',\n",
       " 'HELOCPCT',\n",
       " 'HELOCYN07',\n",
       " 'HELOCYN09',\n",
       " 'HEQUITY07',\n",
       " 'HEQUITY09',\n",
       " 'HFIN07',\n",
       " 'HFIN09',\n",
       " 'HHEALTH07',\n",
       " 'HHEALTH09',\n",
       " 'HHELOC07',\n",
       " 'HHELOC09',\n",
       " 'HHOUSES07',\n",
       " 'HHOUSES09',\n",
       " 'HINSTALL07',\n",
       " 'HINSTALL09',\n",
       " 'HIPIR07',\n",
       " 'HIPIR09',\n",
       " 'HLIQ07',\n",
       " 'HLIQ09',\n",
       " 'HMMA07',\n",
       " 'HMMA09',\n",
       " 'HMRTHEL07',\n",
       " 'HMRTHEL09',\n",
       " 'HNFIN07',\n",
       " 'HNFIN09',\n",
       " 'HNHMORT07',\n",
       " 'HNHMORT09',\n",
       " 'HNMMF07',\n",
       " 'HNMMF09',\n",
       " 'HNNRESRE07',\n",
       " 'HNNRESRE09',\n",
       " 'HODEBT07',\n",
       " 'HODEBT09',\n",
       " 'HOMEEQ07',\n",
       " 'HOMEEQ09',\n",
       " 'HOMEEQDIF',\n",
       " 'HOMEEQPCT',\n",
       " 'HORESRE07',\n",
       " 'HORESRE09',\n",
       " 'HOTHFIN07',\n",
       " 'HOTHFIN09',\n",
       " 'HOTHINST07',\n",
       " 'HOTHINST09',\n",
       " 'HOTHLOC07',\n",
       " 'HOTHLOC09',\n",
       " 'HOTHMA07',\n",
       " 'HOTHMA09',\n",
       " 'HOTHNFIN07',\n",
       " 'HOTHNFIN09',\n",
       " 'HOUSECL07',\n",
       " 'HOUSECL09',\n",
       " 'HOUSES07',\n",
       " 'HOUSES09',\n",
       " 'HOUSESDIF',\n",
       " 'HOUSESPCT',\n",
       " 'HPRIMMORT07',\n",
       " 'HPRIMMORT09',\n",
       " 'HRESDBT07',\n",
       " 'HRESDBT09',\n",
       " 'HRETQLIQ07',\n",
       " 'HRETQLIQ09',\n",
       " 'HSAVBND07',\n",
       " 'HSAVBND09',\n",
       " 'HSAVING07',\n",
       " 'HSAVING09',\n",
       " 'HSECMORT07',\n",
       " 'HSECMORT09',\n",
       " 'HSTOCKS07',\n",
       " 'HSTOCKS09',\n",
       " 'HTRAD07',\n",
       " 'HTRAD09',\n",
       " 'HVEHIC07',\n",
       " 'HVEHIC09',\n",
       " 'HVEHINST07',\n",
       " 'HVEHINST09',\n",
       " 'H_RACE',\n",
       " 'H_RACECL',\n",
       " 'I',\n",
       " 'ICALL07',\n",
       " 'ICALL09',\n",
       " 'IDONT07',\n",
       " 'IDONT09',\n",
       " 'IFINPLAN07',\n",
       " 'IFINPLAN09',\n",
       " 'IFINPRO07',\n",
       " 'IFINPRO09',\n",
       " 'IFRIENDWORK07',\n",
       " 'IFRIENDWORK09',\n",
       " 'IINTERNET07',\n",
       " 'IINTERNET09',\n",
       " 'IMAGZNEWS07',\n",
       " 'IMAGZNEWS09',\n",
       " 'IMAILADTV07',\n",
       " 'IMAILADTV09',\n",
       " 'INCCAT07',\n",
       " 'INCCAT09',\n",
       " 'INCCL207',\n",
       " 'INCCL209',\n",
       " 'INCOME07',\n",
       " 'INCOME09',\n",
       " 'INCOMEDIF',\n",
       " 'INCOMEPCT',\n",
       " 'INDCAT07',\n",
       " 'INDCAT09',\n",
       " 'INSTALL07',\n",
       " 'INSTALL09',\n",
       " 'INSTALLDIF',\n",
       " 'INSTALLPCT',\n",
       " 'INTDIVINC07',\n",
       " 'INTDIVINC09',\n",
       " 'INTDIVINCDIF',\n",
       " 'INTDIVINCPCT',\n",
       " 'IOTHER07',\n",
       " 'IOTHER09',\n",
       " 'IRAKH07',\n",
       " 'IRAKH09',\n",
       " 'IRAKHDIF',\n",
       " 'IRAKHPCT',\n",
       " 'ISELF07',\n",
       " 'ISELF09',\n",
       " 'ISHOPGRDL07',\n",
       " 'ISHOPGRDL09',\n",
       " 'ISHOPMODR07',\n",
       " 'ISHOPMODR09',\n",
       " 'ISHOPNONE07',\n",
       " 'ISHOPNONE09',\n",
       " 'KGINC07',\n",
       " 'KGINC09',\n",
       " 'KGINCDIF',\n",
       " 'KGINCPCT',\n",
       " 'KIDS07',\n",
       " 'KIDS09',\n",
       " 'LATE6007',\n",
       " 'LATE6009',\n",
       " 'LEASE07',\n",
       " 'LEASE09',\n",
       " 'LEVERAGE07',\n",
       " 'LEVERAGE09',\n",
       " 'LEVERAGEDIF',\n",
       " 'LEVERAGEPCT',\n",
       " 'LIFECL07',\n",
       " 'LIFECL09',\n",
       " 'LIQ07',\n",
       " 'LIQ09',\n",
       " 'LIQDIF',\n",
       " 'LIQPCT',\n",
       " 'MARRIED07',\n",
       " 'MARRIED09',\n",
       " 'MORTPAY07',\n",
       " 'MORTPAY09',\n",
       " 'MORTPAYDIF',\n",
       " 'MORTPAYPCT',\n",
       " 'MRTHEL07',\n",
       " 'MRTHEL09',\n",
       " 'MRTHELDIF',\n",
       " 'MRTHELPCT',\n",
       " 'MSAVING07',\n",
       " 'MSAVING09',\n",
       " 'MSAVINGDIF',\n",
       " 'MSAVINGPCT',\n",
       " 'NBUSVEH07',\n",
       " 'NBUSVEH09',\n",
       " 'NETWORTH07',\n",
       " 'NETWORTH09',\n",
       " 'NETWORTHDIF',\n",
       " 'NETWORTHPCT',\n",
       " 'NFIN07',\n",
       " 'NFIN09',\n",
       " 'NFINDIF',\n",
       " 'NFINPCT',\n",
       " 'NHMORT07',\n",
       " 'NHMORT09',\n",
       " 'NHMORTDIF',\n",
       " 'NHMORTPCT',\n",
       " 'NHNFIN07',\n",
       " 'NHNFIN09',\n",
       " 'NLEASE07',\n",
       " 'NLEASE09',\n",
       " 'NMMF07',\n",
       " 'NMMF09',\n",
       " 'NMMFDIF',\n",
       " 'NMMFPCT',\n",
       " 'NNRESRE07',\n",
       " 'NNRESRE09',\n",
       " 'NNRESREDIF',\n",
       " 'NNRESREPCT',\n",
       " 'NOCHK07',\n",
       " 'NOCHK09',\n",
       " 'NONACTBUS07',\n",
       " 'NONACTBUS09',\n",
       " 'NORMINC07',\n",
       " 'NORMINC09',\n",
       " 'NORMINCDIF',\n",
       " 'NORMINCPCT',\n",
       " 'NOWN07',\n",
       " 'NOWN09',\n",
       " 'NSTOCKS07',\n",
       " 'NSTOCKS09',\n",
       " 'NTRAD07',\n",
       " 'NTRAD09',\n",
       " 'NVEHIC07',\n",
       " 'NVEHIC09',\n",
       " 'NWCAT07',\n",
       " 'NWCAT09',\n",
       " 'OCCAT107',\n",
       " 'OCCAT109',\n",
       " 'OCCAT207',\n",
       " 'OCCAT209',\n",
       " 'ODEBT07',\n",
       " 'ODEBT09',\n",
       " 'ODEBTDIF',\n",
       " 'ODEBTPCT',\n",
       " 'ONTIMEM107',\n",
       " 'ONTIMEM109',\n",
       " 'ONTIMEM207',\n",
       " 'ONTIMEM209',\n",
       " 'ORESRE07',\n",
       " 'ORESRE09',\n",
       " 'ORESREDIF',\n",
       " 'ORESREPCT',\n",
       " 'OTHFIN07',\n",
       " 'OTHFIN09',\n",
       " 'OTHFINDIF',\n",
       " 'OTHFINPCT',\n",
       " 'OTHINST07',\n",
       " 'OTHINST09',\n",
       " 'OTHINSTDIF',\n",
       " 'OTHINSTPCT',\n",
       " 'OTHLOC07',\n",
       " 'OTHLOC09',\n",
       " 'OTHLOCDIF',\n",
       " 'OTHLOCPCT',\n",
       " 'OTHMA07',\n",
       " 'OTHMA09',\n",
       " 'OTHMADIF',\n",
       " 'OTHMAPCT',\n",
       " 'OTHNFIN07',\n",
       " 'OTHNFIN09',\n",
       " 'OTHNFINDIF',\n",
       " 'OTHNFINPCT',\n",
       " 'OWN07',\n",
       " 'OWN09',\n",
       " 'PENACCTWD07',\n",
       " 'PENACCTWD09',\n",
       " 'PENEQ07',\n",
       " 'PENEQ09',\n",
       " 'PENEQDIF',\n",
       " 'PENEQPCT',\n",
       " 'PIRCONS07',\n",
       " 'PIRCONS09',\n",
       " 'PIRMORT07',\n",
       " 'PIRMORT09',\n",
       " 'PIRREV07',\n",
       " 'PIRREV09',\n",
       " 'PIRTOTAL07',\n",
       " 'PIRTOTAL09',\n",
       " 'POSTRWORK07',\n",
       " 'POSTRWORK09',\n",
       " 'PSAVING07',\n",
       " 'PSAVING09',\n",
       " 'PSAVINGDIF',\n",
       " 'PSAVINGPCT',\n",
       " 'PURCH107',\n",
       " 'PURCH109',\n",
       " 'RACE',\n",
       " 'RACECL',\n",
       " 'REFINEVER07',\n",
       " 'REFINEVER09',\n",
       " 'RESDBT07',\n",
       " 'RESDBT09',\n",
       " 'RESDBTDIF',\n",
       " 'RESDBTPCT',\n",
       " 'RETEQ07',\n",
       " 'RETEQ09',\n",
       " 'RETEQDIF',\n",
       " 'RETEQPCT',\n",
       " 'RETQLIQ07',\n",
       " 'RETQLIQ09',\n",
       " 'RETQLIQDIF',\n",
       " 'RETQLIQPCT',\n",
       " 'REVPAY07',\n",
       " 'REVPAY09',\n",
       " 'REVPAYDIF',\n",
       " 'REVPAYPCT',\n",
       " 'RFULL07',\n",
       " 'RFULL09',\n",
       " 'RISK07',\n",
       " 'RISK09',\n",
       " 'RT07',\n",
       " 'RT09',\n",
       " 'RiskFree07',\n",
       " 'RiskFree09',\n",
       " 'Risky07',\n",
       " 'Risky09',\n",
       " 'SAVBND07',\n",
       " 'SAVBND09',\n",
       " 'SAVBNDDIF',\n",
       " 'SAVBNDPCT',\n",
       " 'SAVED07',\n",
       " 'SAVED09',\n",
       " 'SAVRES1',\n",
       " 'SAVRES2',\n",
       " 'SAVRES3',\n",
       " 'SAVRES4',\n",
       " 'SAVRES5',\n",
       " 'SAVRES6',\n",
       " 'SAVRES7',\n",
       " 'SAVRES8',\n",
       " 'SAVRES9',\n",
       " 'SPENDMOR07',\n",
       " 'SPENDMOR09',\n",
       " 'SPHEALTH07',\n",
       " 'SPHEALTH09',\n",
       " 'SSRETINC07',\n",
       " 'SSRETINC09',\n",
       " 'SSRETINCDIF',\n",
       " 'SSRETINCPCT',\n",
       " 'STOCKS07',\n",
       " 'STOCKS09',\n",
       " 'STOCKSDIF',\n",
       " 'STOCKSPCT',\n",
       " 'THRIFT07',\n",
       " 'THRIFT09',\n",
       " 'TPAY07',\n",
       " 'TPAY09',\n",
       " 'TPAYDIF',\n",
       " 'TPAYPCT',\n",
       " 'TRANSFOTHINC07',\n",
       " 'TRANSFOTHINC09',\n",
       " 'TRANSFOTHINCDIF',\n",
       " 'TRANSFOTHINCPCT',\n",
       " 'TRUSTS07',\n",
       " 'TRUSTS09',\n",
       " 'USPELL07',\n",
       " 'USPELL09',\n",
       " 'VEHIC07',\n",
       " 'VEHIC09',\n",
       " 'VEHICDIF',\n",
       " 'VEHICPCT',\n",
       " 'VEHINST07',\n",
       " 'VEHINST09',\n",
       " 'VEHINSTDIF',\n",
       " 'VEHINSTPCT',\n",
       " 'VOWN07',\n",
       " 'VOWN09',\n",
       " 'VOWNDIF',\n",
       " 'VOWNPCT',\n",
       " 'WAGEINC07',\n",
       " 'WAGEINC09',\n",
       " 'WAGEINCDIF',\n",
       " 'WAGEINCPCT',\n",
       " 'WGT09',\n",
       " 'WILSH',\n",
       " 'WILSH07',\n",
       " 'WSAVED07',\n",
       " 'WSAVED09',\n",
       " 'Y1',\n",
       " 'YY1']"
      ]
     },
     "execution_count": 40,
     "metadata": {},
     "output_type": "execute_result"
    }
   ],
   "source": [
    "clm = dataset.columns.values.tolist() \n",
    "clm.sort()\n",
    "clm"
   ]
  },
  {
   "cell_type": "markdown",
   "metadata": {},
   "source": [
    "Let us compute the percentage change in risk tolerance between 2007 and 2009. "
   ]
  },
  {
   "cell_type": "code",
   "execution_count": 41,
   "metadata": {},
   "outputs": [],
   "source": [
    "dataset['PercentageChange'] = np.abs(dataset['RT09']/dataset['RT07']-1)"
   ]
  },
  {
   "cell_type": "markdown",
   "metadata": {},
   "source": [
    "Checking for the rows with null or nan values and removing them."
   ]
  },
  {
   "cell_type": "code",
   "execution_count": 42,
   "metadata": {},
   "outputs": [
    {
     "name": "stdout",
     "output_type": "stream",
     "text": [
      "Null Values = True\n"
     ]
    }
   ],
   "source": [
    "#Checking for any null values \n",
    "print('Null Values =',dataset.isnull().values.any())"
   ]
  },
  {
   "cell_type": "code",
   "execution_count": 43,
   "metadata": {},
   "outputs": [
    {
     "name": "stdout",
     "output_type": "stream",
     "text": [
      "Null Values = False\n"
     ]
    }
   ],
   "source": [
    "# Drop the rows containing NA\n",
    "dataset=dataset.dropna(axis=0)\n",
    "\n",
    "dataset=dataset[~dataset.isin([np.nan, np.inf, -np.inf]).any(1)]\n",
    "\n",
    "#Checking for any null values and removing the null values'''\n",
    "print('Null Values =',dataset.isnull().values.any())"
   ]
  },
  {
   "cell_type": "markdown",
   "metadata": {},
   "source": [
    "Let us plot the risk tolerance of 2007 and 2009. "
   ]
  },
  {
   "cell_type": "code",
   "execution_count": 44,
   "metadata": {},
   "outputs": [
    {
     "data": {
      "text/plain": [
       "<AxesSubplot:xlabel='RT07'>"
      ]
     },
     "execution_count": 44,
     "metadata": {},
     "output_type": "execute_result"
    },
    {
     "data": {
      "image/png": "[encoded data removed]",
      "text/plain": [
       "<Figure size 432x288 with 1 Axes>"
      ]
     },
     "metadata": {
      "needs_background": "light"
     },
     "output_type": "display_data"
    }
   ],
   "source": [
    "sns.distplot(dataset['RT07'], hist=True, kde=False, \n",
    "             bins=int(180/5), color = 'blue',\n",
    "             hist_kws={'edgecolor':'black'})"
   ]
  },
  {
   "cell_type": "markdown",
   "metadata": {},
   "source": [
    "Looking at the risk tolerance of 2007, we see that a significant number of individuals had risk tolerance close to one.Meaning the investment ws more skewed towards the risky assets as compared to the riskless assets. We will comere this so the risk tolerance in 2009."
   ]
  },
  {
   "cell_type": "code",
   "execution_count": 45,
   "metadata": {},
   "outputs": [
    {
     "data": {
      "text/plain": [
       "<AxesSubplot:xlabel='RT09'>"
      ]
     },
     "execution_count": 45,
     "metadata": {},
     "output_type": "execute_result"
    },
    {
     "data": {
      "image/png": "[encoded data removed]",
      "text/plain": [
       "<Figure size 432x288 with 1 Axes>"
      ]
     },
     "metadata": {
      "needs_background": "light"
     },
     "output_type": "display_data"
    }
   ],
   "source": [
    "sns.distplot(dataset['RT09'], hist=True, kde=False, \n",
    "             bins=int(180/5), color = 'blue',\n",
    "             hist_kws={'edgecolor':'black'})"
   ]
  },
  {
   "cell_type": "markdown",
   "metadata": {},
   "source": [
    "The behavior of the individuals reversed in 2009 after crisis and majority of the investment was in risk free assets. Overall risk tolerance decreased. \n",
    "In the next step we only take the intelligent investors whose risk tolerance change between 2007 and 2009 was less than 10%"
   ]
  },
  {
   "cell_type": "code",
   "execution_count": 46,
   "metadata": {},
   "outputs": [],
   "source": [
    "dataset = dataset[dataset['PercentageChange']<=.1]"
   ]
  },
  {
   "cell_type": "markdown",
   "metadata": {},
   "source": [
    "The true risk tolerance is assigned as the average risk tolerance of these intelligent investors between 2007 and 2009. This is the predicted variable for this case study. The purpose would be to predict the true risk tolerance of an individuals given the demographic, financial and willingness to take risk related features. "
   ]
  },
  {
   "cell_type": "code",
   "execution_count": 47,
   "metadata": {},
   "outputs": [],
   "source": [
    "dataset['TrueRiskTolerance'] = (dataset['RT07'] + dataset['RT09'])/2"
   ]
  },
  {
   "cell_type": "markdown",
   "metadata": {},
   "source": [
    "Drop other labels which might not be needed for the prediction. "
   ]
  },
  {
   "cell_type": "code",
   "execution_count": 48,
   "metadata": {},
   "outputs": [],
   "source": [
    "dataset.drop(labels=['RT07', 'RT09'], axis=1, inplace=True)\n",
    "dataset.drop(labels=['PercentageChange'], axis=1, inplace=True)"
   ]
  },
  {
   "cell_type": "markdown",
   "metadata": {},
   "source": [
    "In order to filter the features further we do the following:\n",
    "1. Check the description in the Data Dictionary (https://www.federalreserve.gov/econres/files/codebk2009p.txt, https://sda.berkeley.edu/sdaweb/docs/scfcomb2019/DOC/hcbkh01.htm)and only keep the features that are relevant\n",
    "The description is as follows: \n",
    "\n",
    "\n",
    "* AGE: The age of the household reference person.\n",
    "* EDUC: There are 4 education categories, where 1 represents no high school and 4 represents college degree.\n",
    "* MARRIED: It represents marital status. There are two categories where 1 represents married and 2 represents unmarried. \n",
    "* OCCAT1: It represents occupation category. 1 represents managerial category and 4 represents unemployed.\n",
    "* KIDS: It represents number of kids. \n",
    "* NETWORTH: Total net worth of household, 2019 dollars: the difference between assets and debt. See definitions of assets and debt for further clarification. \n",
    "* INCOME: Total income of household in 2019 dollars.\n",
    "* RISK: It represents the willingness to take risk on a scale of 1 to 4, where 1 represents highest level of willingness to take risk. \n",
    "\n",
    "2. Keep only the intuitive factors as of 2007 only and remove all the intermediate features and features related to 2009, as the variables of 2007 are the only ones required for predicting the risk tolerance.\n"
   ]
  },
  {
   "cell_type": "code",
   "execution_count": 51,
   "metadata": {},
   "outputs": [],
   "source": [
    "keep_list2 = ['AGE07','EDCL07','MARRIED07','KIDS07','OCCAT107','INCOME07','RISK07','NETWORTH07','TrueRiskTolerance'\n",
    "]\n",
    "\n",
    "drop_list2 = [col for col in dataset.columns if col not in keep_list2]\n",
    "\n",
    "dataset.drop(labels=drop_list2, axis=1, inplace=True)"
   ]
  },
  {
   "cell_type": "markdown",
   "metadata": {},
   "source": [
    "Let us look at the correlation among the features."
   ]
  },
  {
   "cell_type": "code",
   "execution_count": 52,
   "metadata": {},
   "outputs": [
    {
     "data": {
      "text/plain": [
       "<AxesSubplot:title={'center':'Correlation Matrix'}>"
      ]
     },
     "execution_count": 52,
     "metadata": {},
     "output_type": "execute_result"
    },
    {
     "data": {
      "image/png": "[encoded data removed]",
      "text/plain": [
       "<Figure size 1080x1080 with 2 Axes>"
      ]
     },
     "metadata": {
      "needs_background": "light"
     },
     "output_type": "display_data"
    }
   ],
   "source": [
    "# correlation\n",
    "correlation = dataset.corr()\n",
    "plt.figure(figsize=(15,15))\n",
    "plt.title('Correlation Matrix')\n",
    "sns.heatmap(correlation, vmax=1, square=True,annot=True,cmap='cubehelix')"
   ]
  },
  {
   "cell_type": "code",
   "execution_count": 53,
   "metadata": {},
   "outputs": [
    {
     "data": {
      "text/plain": [
       "<Figure size 1080x1080 with 0 Axes>"
      ]
     },
     "metadata": {},
     "output_type": "display_data"
    },
    {
     "data": {
      "image/png": "[encoded data removed]",
      "text/plain": [
       "<Figure size 864x864 with 81 Axes>"
      ]
     },
     "metadata": {
      "needs_background": "light"
     },
     "output_type": "display_data"
    }
   ],
   "source": [
    "# Scatterplot Matrix\n",
    "from pandas.plotting import scatter_matrix\n",
    "plt.figure(figsize=(15,15))\n",
    "scatter_matrix(dataset,figsize=(12,12))\n",
    "plt.show()"
   ]
  },
  {
   "cell_type": "markdown",
   "metadata": {},
   "source": [
    "#### Conclusions\n",
    "* Networth and income are positively correlated with the risk tolerance.\n",
    "* With more number of kids and marriage the risk tolerance decreases. \n",
    "* As the willingness to take risk decreases the risk tolerance decreases. \n",
    "* With age there is a positive relationship of the risk tolerance. \n",
    "\n",
    "As per the paper \"Does Risk Tolerance Decrease With Age?(Hui Wang1,Sherman Hanna)\", Relative risk aversion decreases as people age (i.e., the proportion of net wealth invested in risky assets increases as people age) when other variables are held constant.Therefore, risk tolerance increases with age. \n",
    "\n",
    "So, in summary all the variables and their relationship with risk tolerance seems intuitive. "
   ]
  },
  {
   "cell_type": "markdown",
   "metadata": {},
   "source": [
    "<a id='4'></a>\n",
    "# 4. Evaluate Algorithms and Models"
   ]
  },
  {
   "cell_type": "markdown",
   "metadata": {},
   "source": [
    "Let us evaluate the algorithms and the models. "
   ]
  },
  {
   "cell_type": "markdown",
   "metadata": {},
   "source": [
    "Performing a train and test split in this step. "
   ]
  },
  {
   "cell_type": "code",
   "execution_count": 55,
   "metadata": {},
   "outputs": [],
   "source": [
    "# split out validation dataset for the end\n",
    "Y= dataset[\"TrueRiskTolerance\"]\n",
    "X = dataset.loc[:, dataset.columns != 'TrueRiskTolerance']\n",
    "# scaler = StandardScaler().fit(X)\n",
    "# rescaledX = scaler.transform(X)\n",
    "validation_size = 0.2\n",
    "seed = 3\n",
    "X_train, X_validation, Y_train, Y_validation = train_test_split(X, Y, test_size=validation_size, random_state=seed)"
   ]
  },
  {
   "cell_type": "code",
   "execution_count": 56,
   "metadata": {
    "_cell_guid": "5702bc31-06bf-8b6a-42de-366a6b3311a8"
   },
   "outputs": [],
   "source": [
    "# test options for regression\n",
    "num_folds = 10\n",
    "#scoring = 'neg_mean_squared_error'\n",
    "#scoring ='neg_mean_absolute_error'\n",
    "scoring = 'r2'"
   ]
  },
  {
   "cell_type": "markdown",
   "metadata": {},
   "source": [
    "### Regression Models"
   ]
  },
  {
   "cell_type": "code",
   "execution_count": 57,
   "metadata": {
    "_cell_guid": "772802f7-f4e4-84ee-6377-6464ab2e5da4"
   },
   "outputs": [],
   "source": [
    "# spot check the algorithms\n",
    "models = []\n",
    "models.append(('LR', LinearRegression()))\n",
    "models.append(('LASSO', Lasso()))\n",
    "models.append(('EN', ElasticNet()))\n",
    "models.append(('KNN', KNeighborsRegressor()))\n",
    "models.append(('CART', DecisionTreeRegressor()))\n",
    "models.append(('SVR', SVR()))\n",
    "#Neural Network\n",
    "#models.append(('MLP', MLPRegressor()))\n",
    "#Ensable Models \n",
    "# Boosting methods\n",
    "models.append(('ABR', AdaBoostRegressor()))\n",
    "models.append(('GBR', GradientBoostingRegressor()))\n",
    "# Bagging methods\n",
    "models.append(('RFR', RandomForestRegressor()))\n",
    "models.append(('ETR', ExtraTreesRegressor()))"
   ]
  },
  {
   "cell_type": "markdown",
   "metadata": {},
   "source": [
    "### K-folds cross validation"
   ]
  },
  {
   "cell_type": "code",
   "execution_count": 59,
   "metadata": {
    "_cell_guid": "a784ab4a-eb59-98cc-76cf-b55f382d057a"
   },
   "outputs": [
    {
     "name": "stdout",
     "output_type": "stream",
     "text": [
      "LR: -0.102704 (0.179297)\n",
      "LASSO: -0.041555 (0.109033)\n",
      "EN: -0.047729 (0.108990)\n",
      "KNN: -0.424571 (0.141433)\n",
      "CART: -0.518595 (0.228111)\n",
      "SVR: -0.127821 (0.100887)\n",
      "ABR: -0.406310 (0.152057)\n",
      "GBR: -0.620934 (0.140847)\n",
      "RFR: -0.705648 (0.092700)\n",
      "ETR: -0.696681 (0.152831)\n"
     ]
    }
   ],
   "source": [
    "results = []\n",
    "names = []\n",
    "for name, model in models:\n",
    "    kfold = KFold(n_splits=num_folds, random_state=seed, shuffle=True)\n",
    "    #converted mean square error to positive. The lower the beter\n",
    "    cv_results = -1* cross_val_score(model, X_train, Y_train, cv=kfold, scoring=scoring)\n",
    "    results.append(cv_results)\n",
    "    names.append(name)\n",
    "    msg = \"%s: %f (%f)\" % (name, cv_results.mean(), cv_results.std())\n",
    "    print(msg)"
   ]
  },
  {
   "cell_type": "markdown",
   "metadata": {},
   "source": [
    "### Algorithm comparison"
   ]
  },
  {
   "cell_type": "code",
   "execution_count": 60,
   "metadata": {},
   "outputs": [
    {
     "data": {
      "image/png": "[encoded data removed]",
      "text/plain": [
       "<Figure size 1080x576 with 1 Axes>"
      ]
     },
     "metadata": {
      "needs_background": "light"
     },
     "output_type": "display_data"
    }
   ],
   "source": [
    "# compare algorithms\n",
    "fig = plt.figure()\n",
    "fig.suptitle('Algorithm Comparison')\n",
    "ax = fig.add_subplot(111)\n",
    "plt.boxplot(results)\n",
    "ax.set_xticklabels(names)\n",
    "fig.set_size_inches(15,8)\n",
    "plt.show()"
   ]
  },
  {
   "cell_type": "markdown",
   "metadata": {},
   "source": [
    "The non linear models perform better than the linear models, which means that a non linear relationship between the risk tolerance and the difference variables use to predict it. Given random forest regression is one of the best methods, we use it for further grid search. "
   ]
  },
  {
   "cell_type": "markdown",
   "metadata": {},
   "source": [
    "<a id='5'></a>\n",
    "# 5. Model Tuning and Grid Search"
   ]
  },
  {
   "cell_type": "markdown",
   "metadata": {
    "_cell_guid": "848ca488-b0fd-8e93-2e68-23d32c71d89c"
   },
   "source": [
    "Given that the Random Forest is the best model, Grid Search is performed on Random Forest."
   ]
  },
  {
   "cell_type": "code",
   "execution_count": 63,
   "metadata": {},
   "outputs": [
    {
     "name": "stdout",
     "output_type": "stream",
     "text": [
      "Best: 0.714401 using {'n_estimators': 350}\n",
      "0.708087 (0.101995) with: {'n_estimators': 50}\n",
      "0.705508 (0.106294) with: {'n_estimators': 100}\n",
      "0.711251 (0.103664) with: {'n_estimators': 150}\n",
      "0.713714 (0.102605) with: {'n_estimators': 200}\n",
      "0.713056 (0.111333) with: {'n_estimators': 250}\n",
      "0.706844 (0.101558) with: {'n_estimators': 300}\n",
      "0.714401 (0.113783) with: {'n_estimators': 350}\n",
      "0.705193 (0.102894) with: {'n_estimators': 400}\n"
     ]
    }
   ],
   "source": [
    "# 8. Grid search : RandomForestRegressor \n",
    "'''\n",
    "n_estimators : integer, optional (default=10)\n",
    "    The number of trees in the forest.\n",
    "'''\n",
    "param_grid = {'n_estimators': [50,100,150,200,250,300,350,400]}\n",
    "model = RandomForestRegressor()\n",
    "kfold = KFold(n_splits=num_folds, random_state=seed, shuffle=True)\n",
    "grid = GridSearchCV(estimator=model, param_grid=param_grid, scoring=scoring, cv=kfold)\n",
    "grid_result = grid.fit(X_train, Y_train)\n",
    "print(\"Best: %f using %s\" % (grid_result.best_score_, grid_result.best_params_))\n",
    "means = grid_result.cv_results_['mean_test_score']\n",
    "stds = grid_result.cv_results_['std_test_score']\n",
    "params = grid_result.cv_results_['params']\n",
    "for mean, stdev, param in zip(means, stds, params):\n",
    "    print(\"%f (%f) with: %r\" % (mean, stdev, param))"
   ]
  },
  {
   "cell_type": "markdown",
   "metadata": {},
   "source": [
    "Random forest with number of estimators 350, is the best model after grid search. "
   ]
  },
  {
   "cell_type": "markdown",
   "metadata": {},
   "source": [
    "<a id='6'></a>\n",
    "# 6. Finalise the Model"
   ]
  },
  {
   "cell_type": "markdown",
   "metadata": {},
   "source": [
    "Finalize Model with best parameters found during tuning step."
   ]
  },
  {
   "cell_type": "code",
   "execution_count": 65,
   "metadata": {},
   "outputs": [
    {
     "data": {
      "text/html": [
       "<style>#sk-container-id-2 {color: black;background-color: white;}#sk-container-id-2 pre{padding: 0;}#sk-container-id-2 div.sk-toggleable {background-color: white;}#sk-container-id-2 label.sk-toggleable__label {cursor: pointer;display: block;width: 100%;margin-bottom: 0;padding: 0.3em;box-sizing: border-box;text-align: center;}#sk-container-id-2 label.sk-toggleable__label-arrow:before {content: \"▸\";float: left;margin-right: 0.25em;color: #696969;}#sk-container-id-2 label.sk-toggleable__label-arrow:hover:before {color: black;}#sk-container-id-2 div.sk-estimator:hover label.sk-toggleable__label-arrow:before {color: black;}#sk-container-id-2 div.sk-toggleable__content {max-height: 0;max-width: 0;overflow: hidden;text-align: left;background-color: #f0f8ff;}#sk-container-id-2 div.sk-toggleable__content pre {margin: 0.2em;color: black;border-radius: 0.25em;background-color: #f0f8ff;}#sk-container-id-2 input.sk-toggleable__control:checked~div.sk-toggleable__content {max-height: 200px;max-width: 100%;overflow: auto;}#sk-container-id-2 input.sk-toggleable__control:checked~label.sk-toggleable__label-arrow:before {content: \"▾\";}#sk-container-id-2 div.sk-estimator input.sk-toggleable__control:checked~label.sk-toggleable__label {background-color: #d4ebff;}#sk-container-id-2 div.sk-label input.sk-toggleable__control:checked~label.sk-toggleable__label {background-color: #d4ebff;}#sk-container-id-2 input.sk-hidden--visually {border: 0;clip: rect(1px 1px 1px 1px);clip: rect(1px, 1px, 1px, 1px);height: 1px;margin: -1px;overflow: hidden;padding: 0;position: absolute;width: 1px;}#sk-container-id-2 div.sk-estimator {font-family: monospace;background-color: #f0f8ff;border: 1px dotted black;border-radius: 0.25em;box-sizing: border-box;margin-bottom: 0.5em;}#sk-container-id-2 div.sk-estimator:hover {background-color: #d4ebff;}#sk-container-id-2 div.sk-parallel-item::after {content: \"\";width: 100%;border-bottom: 1px solid gray;flex-grow: 1;}#sk-container-id-2 div.sk-label:hover label.sk-toggleable__label {background-color: #d4ebff;}#sk-container-id-2 div.sk-serial::before {content: \"\";position: absolute;border-left: 1px solid gray;box-sizing: border-box;top: 0;bottom: 0;left: 50%;z-index: 0;}#sk-container-id-2 div.sk-serial {display: flex;flex-direction: column;align-items: center;background-color: white;padding-right: 0.2em;padding-left: 0.2em;position: relative;}#sk-container-id-2 div.sk-item {position: relative;z-index: 1;}#sk-container-id-2 div.sk-parallel {display: flex;align-items: stretch;justify-content: center;background-color: white;position: relative;}#sk-container-id-2 div.sk-item::before, #sk-container-id-2 div.sk-parallel-item::before {content: \"\";position: absolute;border-left: 1px solid gray;box-sizing: border-box;top: 0;bottom: 0;left: 50%;z-index: -1;}#sk-container-id-2 div.sk-parallel-item {display: flex;flex-direction: column;z-index: 1;position: relative;background-color: white;}#sk-container-id-2 div.sk-parallel-item:first-child::after {align-self: flex-end;width: 50%;}#sk-container-id-2 div.sk-parallel-item:last-child::after {align-self: flex-start;width: 50%;}#sk-container-id-2 div.sk-parallel-item:only-child::after {width: 0;}#sk-container-id-2 div.sk-dashed-wrapped {border: 1px dashed gray;margin: 0 0.4em 0.5em 0.4em;box-sizing: border-box;padding-bottom: 0.4em;background-color: white;}#sk-container-id-2 div.sk-label label {font-family: monospace;font-weight: bold;display: inline-block;line-height: 1.2em;}#sk-container-id-2 div.sk-label-container {text-align: center;}#sk-container-id-2 div.sk-container {/* jupyter's `normalize.less` sets `[hidden] { display: none; }` but bootstrap.min.css set `[hidden] { display: none !important; }` so we also need the `!important` here to be able to override the default hidden behavior on the sphinx rendered scikit-learn.org. See: https://github.com/scikit-learn/scikit-learn/issues/21755 */display: inline-block !important;position: relative;}#sk-container-id-2 div.sk-text-repr-fallback {display: none;}</style><div id=\"sk-container-id-2\" class=\"sk-top-container\"><div class=\"sk-text-repr-fallback\"><pre>RandomForestRegressor(n_estimators=350)</pre><b>In a Jupyter environment, please rerun this cell to show the HTML representation or trust the notebook. <br />On GitHub, the HTML representation is unable to render, please try loading this page with nbviewer.org.</b></div><div class=\"sk-container\" hidden><div class=\"sk-item\"><div class=\"sk-estimator sk-toggleable\"><input class=\"sk-toggleable__control sk-hidden--visually\" id=\"sk-estimator-id-2\" type=\"checkbox\" checked><label for=\"sk-estimator-id-2\" class=\"sk-toggleable__label sk-toggleable__label-arrow\">RandomForestRegressor</label><div class=\"sk-toggleable__content\"><pre>RandomForestRegressor(n_estimators=350)</pre></div></div></div></div></div>"
      ],
      "text/plain": [
       "RandomForestRegressor(n_estimators=350)"
      ]
     },
     "execution_count": 65,
     "metadata": {},
     "output_type": "execute_result"
    }
   ],
   "source": [
    "# prepare model\n",
    "model = RandomForestRegressor(n_estimators = 350)\n",
    "model.fit(X_train, Y_train)"
   ]
  },
  {
   "cell_type": "code",
   "execution_count": 66,
   "metadata": {},
   "outputs": [
    {
     "name": "stdout",
     "output_type": "stream",
     "text": [
      "0.9640879424345347\n"
     ]
    }
   ],
   "source": [
    "from sklearn.metrics import r2_score\n",
    "predictions_train = model.predict(X_train)\n",
    "print(r2_score(Y_train, predictions_train))"
   ]
  },
  {
   "cell_type": "code",
   "execution_count": 67,
   "metadata": {
    "_cell_guid": "f9725666-3c21-69d1-ddf6-45e47d982444"
   },
   "outputs": [
    {
     "name": "stdout",
     "output_type": "stream",
     "text": [
      "0.007344612587074819\n",
      "0.7748525878267789\n"
     ]
    }
   ],
   "source": [
    "# estimate accuracy on validation set\n",
    "# transform the validation dataset\n",
    "from sklearn.metrics import mean_squared_error\n",
    "from sklearn.metrics import r2_score\n",
    "#rescaledValidationX = scaler.transform(X_validation)\n",
    "predictions = model.predict(X_validation)\n",
    "print(mean_squared_error(Y_validation, predictions))\n",
    "print(r2_score(Y_validation, predictions))"
   ]
  },
  {
   "cell_type": "markdown",
   "metadata": {},
   "source": [
    "From the mean square error and R2 shown above for the test set, the results look good. "
   ]
  },
  {
   "cell_type": "markdown",
   "metadata": {},
   "source": [
    "Looking at the details above Random forest be worthy of further study.\n",
    "Let us look into the Feature Importance of the RF model"
   ]
  },
  {
   "cell_type": "code",
   "execution_count": 68,
   "metadata": {},
   "outputs": [
    {
     "name": "stdout",
     "output_type": "stream",
     "text": [
      "[0.22754456 0.02751228 0.01318735 0.04267116 0.02494554 0.23047866\n",
      " 0.05116039 0.38250006]\n"
     ]
    },
    {
     "data": {
      "image/png": "[encoded data removed]",
      "text/plain": [
       "<Figure size 432x288 with 1 Axes>"
      ]
     },
     "metadata": {
      "needs_background": "light"
     },
     "output_type": "display_data"
    }
   ],
   "source": [
    "import pandas as pd\n",
    "import numpy as np\n",
    "model = RandomForestRegressor(n_estimators= 200,n_jobs=-1)\n",
    "model.fit(X_train,Y_train)\n",
    "print(model.feature_importances_) #use inbuilt class feature_importances of tree based classifiers\n",
    "#plot graph of feature importances for better visualization\n",
    "feat_importances = pd.Series(model.feature_importances_, index=X.columns)\n",
    "feat_importances.nlargest(10).plot(kind='barh')\n",
    "plt.show()"
   ]
  },
  {
   "cell_type": "markdown",
   "metadata": {},
   "source": [
    "From the chart above, income and networth followed by age and willingness to take risk are the key variables to decide the risk tolerance. These variables have been considered as the key variables to model the risk tolerance across several literature. "
   ]
  },
  {
   "cell_type": "markdown",
   "metadata": {},
   "source": [
    "<a id='6.3'></a>\n",
    "## 6.3. Save Model for Later Use"
   ]
  },
  {
   "cell_type": "code",
   "execution_count": 69,
   "metadata": {},
   "outputs": [],
   "source": [
    "# Save Model Using Pickle\n",
    "from pickle import dump\n",
    "from pickle import load\n",
    "\n",
    "# save the model to disk\n",
    "filename = 'finalized_model2007.sav'\n",
    "dump(model, open(filename, 'wb'))"
   ]
  },
  {
   "cell_type": "code",
   "execution_count": 70,
   "metadata": {},
   "outputs": [
    {
     "name": "stdout",
     "output_type": "stream",
     "text": [
      "0.7608106407524602\n",
      "0.00780267986057176\n"
     ]
    }
   ],
   "source": [
    "# load the model from disk\n",
    "loaded_model = load(open(filename, 'rb'))\n",
    "# estimate accuracy on validation set\n",
    "predictions = loaded_model.predict(X_validation)\n",
    "result = mean_squared_error(Y_validation, predictions)\n",
    "print(r2_score(Y_validation, predictions))\n",
    "print(result)"
   ]
  },
  {
   "cell_type": "markdown",
   "metadata": {},
   "source": [
    "__Conclusion__:\n",
    "\n",
    "We showed that machine learning models might be able to objectively\n",
    "analyze the behavior of different investors in a changing market and attribute these\n",
    "changes to variables involved in determining risk appetite. With an increase in the\n",
    "volume of investor’s data and availability of rich machine learning infrastructure,\n",
    "such models might prove to be more useful.\n",
    "\n",
    "We saw that there is a non-linear relationship between the variables and the risk tolerance. Income and net worth followed by age and willingness to take risk are the key variables to decide the risk tolerance. These variables have been considered as the key variables to model the risk tolerance across several literature.\n"
   ]
  }
 ],
 "metadata": {
  "_change_revision": 206,
  "_is_fork": false,
  "kernelspec": {
   "display_name": "Python 3 (ipykernel)",
   "language": "python",
   "name": "python3"
  },
  "language_info": {
   "codemirror_mode": {
    "name": "ipython",
    "version": 3
   },
   "file_extension": ".py",
   "mimetype": "text/x-python",
   "name": "python",
   "nbconvert_exporter": "python",
   "pygments_lexer": "ipython3",
   "version": "3.9.7"
  }
 },
 "nbformat": 4,
 "nbformat_minor": 1
}
